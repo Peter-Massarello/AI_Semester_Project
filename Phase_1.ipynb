{
  "nbformat": 4,
  "nbformat_minor": 0,
  "metadata": {
    "colab": {
      "name": "Phase 1.ipynb",
      "provenance": []
    },
    "kernelspec": {
      "name": "python3",
      "display_name": "Python 3"
    }
  },
  "cells": [
    {
      "cell_type": "markdown",
      "metadata": {
        "id": "BOjtsfpVgR2o"
      },
      "source": [
        "# Students Performance in Exams"
      ]
    },
    {
      "cell_type": "markdown",
      "metadata": {
        "id": "_2MJI6wugeC2"
      },
      "source": [
        "Getting raw data from my github"
      ]
    },
    {
      "cell_type": "code",
      "metadata": {
        "id": "zPqRO3ngl0qi",
        "colab": {
          "base_uri": "https://localhost:8080/"
        },
        "outputId": "7eb8d4c0-3671-41a6-b7d1-de0ccf85b20a"
      },
      "source": [
        "! wget https://raw.githubusercontent.com/Peter-Massarello/AI_Semester_Project/main/school-test-data-set.csv"
      ],
      "execution_count": 122,
      "outputs": [
        {
          "output_type": "stream",
          "text": [
            "--2021-02-27 17:05:34--  https://raw.githubusercontent.com/Peter-Massarello/AI_Semester_Project/main/school-test-data-set.csv\n",
            "Resolving raw.githubusercontent.com (raw.githubusercontent.com)... 185.199.110.133, 185.199.109.133, 185.199.111.133, ...\n",
            "Connecting to raw.githubusercontent.com (raw.githubusercontent.com)|185.199.110.133|:443... connected.\n",
            "HTTP request sent, awaiting response... 200 OK\n",
            "Length: 14097 (14K) [text/plain]\n",
            "Saving to: ‘school-test-data-set.csv.3’\n",
            "\n",
            "\r          school-te   0%[                    ]       0  --.-KB/s               \rschool-test-data-se 100%[===================>]  13.77K  --.-KB/s    in 0s      \n",
            "\n",
            "2021-02-27 17:05:34 (68.4 MB/s) - ‘school-test-data-set.csv.3’ saved [14097/14097]\n",
            "\n"
          ],
          "name": "stdout"
        }
      ]
    },
    {
      "cell_type": "markdown",
      "metadata": {
        "id": "fSN7bc6Lgikt"
      },
      "source": [
        "Importing required modules, will add more as projet continues"
      ]
    },
    {
      "cell_type": "code",
      "metadata": {
        "id": "XAsPzPREoUVy"
      },
      "source": [
        "# Imports Modules\n",
        "import pandas as pd\n",
        "import numpy as np\n",
        "import matplotlib.pyplot as plt\n",
        "from matplotlib import colors"
      ],
      "execution_count": 123,
      "outputs": []
    },
    {
      "cell_type": "code",
      "metadata": {
        "colab": {
          "base_uri": "https://localhost:8080/",
          "height": 243
        },
        "id": "-bkNbU1nplUf",
        "outputId": "7151430d-898d-43d8-a272-a4cbe9262424"
      },
      "source": [
        "data = pd.read_csv('school-test-data-set.csv', delimiter = ',')\r\n",
        "print(\"Amount of Rows in data set \" + str(data.shape[0]))\r\n",
        "print(\"Amount of Columns in data set \" + str(data.shape[1]))\r\n",
        "data.head()"
      ],
      "execution_count": 124,
      "outputs": [
        {
          "output_type": "stream",
          "text": [
            "Amount of Rows in data set 1000\n",
            "Amount of Columns in data set 6\n"
          ],
          "name": "stdout"
        },
        {
          "output_type": "execute_result",
          "data": {
            "text/html": [
              "<div>\n",
              "<style scoped>\n",
              "    .dataframe tbody tr th:only-of-type {\n",
              "        vertical-align: middle;\n",
              "    }\n",
              "\n",
              "    .dataframe tbody tr th {\n",
              "        vertical-align: top;\n",
              "    }\n",
              "\n",
              "    .dataframe thead th {\n",
              "        text-align: right;\n",
              "    }\n",
              "</style>\n",
              "<table border=\"1\" class=\"dataframe\">\n",
              "  <thead>\n",
              "    <tr style=\"text-align: right;\">\n",
              "      <th></th>\n",
              "      <th>gender</th>\n",
              "      <th>race/ethnicity</th>\n",
              "      <th>parental level of education</th>\n",
              "      <th>lunch</th>\n",
              "      <th>test preparation course</th>\n",
              "      <th>math score</th>\n",
              "    </tr>\n",
              "  </thead>\n",
              "  <tbody>\n",
              "    <tr>\n",
              "      <th>0</th>\n",
              "      <td>1</td>\n",
              "      <td>1</td>\n",
              "      <td>4</td>\n",
              "      <td>1</td>\n",
              "      <td>0</td>\n",
              "      <td>72</td>\n",
              "    </tr>\n",
              "    <tr>\n",
              "      <th>1</th>\n",
              "      <td>1</td>\n",
              "      <td>2</td>\n",
              "      <td>2</td>\n",
              "      <td>1</td>\n",
              "      <td>1</td>\n",
              "      <td>69</td>\n",
              "    </tr>\n",
              "    <tr>\n",
              "      <th>2</th>\n",
              "      <td>1</td>\n",
              "      <td>1</td>\n",
              "      <td>5</td>\n",
              "      <td>1</td>\n",
              "      <td>0</td>\n",
              "      <td>90</td>\n",
              "    </tr>\n",
              "    <tr>\n",
              "      <th>3</th>\n",
              "      <td>0</td>\n",
              "      <td>0</td>\n",
              "      <td>3</td>\n",
              "      <td>0</td>\n",
              "      <td>0</td>\n",
              "      <td>47</td>\n",
              "    </tr>\n",
              "    <tr>\n",
              "      <th>4</th>\n",
              "      <td>0</td>\n",
              "      <td>2</td>\n",
              "      <td>2</td>\n",
              "      <td>1</td>\n",
              "      <td>0</td>\n",
              "      <td>76</td>\n",
              "    </tr>\n",
              "  </tbody>\n",
              "</table>\n",
              "</div>"
            ],
            "text/plain": [
              "   gender  race/ethnicity  ...  test preparation course  math score\n",
              "0       1               1  ...                        0          72\n",
              "1       1               2  ...                        1          69\n",
              "2       1               1  ...                        0          90\n",
              "3       0               0  ...                        0          47\n",
              "4       0               2  ...                        0          76\n",
              "\n",
              "[5 rows x 6 columns]"
            ]
          },
          "metadata": {
            "tags": []
          },
          "execution_count": 124
        }
      ]
    },
    {
      "cell_type": "markdown",
      "metadata": {
        "id": "8-dBOXD4iT6M"
      },
      "source": [
        "# Finding min, max, median, etc\r\n",
        "Took the whole data set, but also showed just the math scores since that is the only column with numbers ranging past 5"
      ]
    },
    {
      "cell_type": "code",
      "metadata": {
        "colab": {
          "base_uri": "https://localhost:8080/",
          "height": 300
        },
        "id": "frm4tU1wiMi6",
        "outputId": "70d92c86-4426-460d-d8fa-0c443ef3a9f6"
      },
      "source": [
        "data.describe()"
      ],
      "execution_count": 125,
      "outputs": [
        {
          "output_type": "execute_result",
          "data": {
            "text/html": [
              "<div>\n",
              "<style scoped>\n",
              "    .dataframe tbody tr th:only-of-type {\n",
              "        vertical-align: middle;\n",
              "    }\n",
              "\n",
              "    .dataframe tbody tr th {\n",
              "        vertical-align: top;\n",
              "    }\n",
              "\n",
              "    .dataframe thead th {\n",
              "        text-align: right;\n",
              "    }\n",
              "</style>\n",
              "<table border=\"1\" class=\"dataframe\">\n",
              "  <thead>\n",
              "    <tr style=\"text-align: right;\">\n",
              "      <th></th>\n",
              "      <th>gender</th>\n",
              "      <th>race/ethnicity</th>\n",
              "      <th>parental level of education</th>\n",
              "      <th>lunch</th>\n",
              "      <th>test preparation course</th>\n",
              "      <th>math score</th>\n",
              "    </tr>\n",
              "  </thead>\n",
              "  <tbody>\n",
              "    <tr>\n",
              "      <th>count</th>\n",
              "      <td>1000.000000</td>\n",
              "      <td>1000.000000</td>\n",
              "      <td>1000.000000</td>\n",
              "      <td>1000.000000</td>\n",
              "      <td>1000.000000</td>\n",
              "      <td>1000.00000</td>\n",
              "    </tr>\n",
              "    <tr>\n",
              "      <th>mean</th>\n",
              "      <td>0.518000</td>\n",
              "      <td>2.174000</td>\n",
              "      <td>2.081000</td>\n",
              "      <td>0.645000</td>\n",
              "      <td>0.358000</td>\n",
              "      <td>66.08900</td>\n",
              "    </tr>\n",
              "    <tr>\n",
              "      <th>std</th>\n",
              "      <td>0.499926</td>\n",
              "      <td>1.157179</td>\n",
              "      <td>1.460333</td>\n",
              "      <td>0.478753</td>\n",
              "      <td>0.479652</td>\n",
              "      <td>15.16308</td>\n",
              "    </tr>\n",
              "    <tr>\n",
              "      <th>min</th>\n",
              "      <td>0.000000</td>\n",
              "      <td>0.000000</td>\n",
              "      <td>0.000000</td>\n",
              "      <td>0.000000</td>\n",
              "      <td>0.000000</td>\n",
              "      <td>0.00000</td>\n",
              "    </tr>\n",
              "    <tr>\n",
              "      <th>25%</th>\n",
              "      <td>0.000000</td>\n",
              "      <td>1.000000</td>\n",
              "      <td>1.000000</td>\n",
              "      <td>0.000000</td>\n",
              "      <td>0.000000</td>\n",
              "      <td>57.00000</td>\n",
              "    </tr>\n",
              "    <tr>\n",
              "      <th>50%</th>\n",
              "      <td>1.000000</td>\n",
              "      <td>2.000000</td>\n",
              "      <td>2.000000</td>\n",
              "      <td>1.000000</td>\n",
              "      <td>0.000000</td>\n",
              "      <td>66.00000</td>\n",
              "    </tr>\n",
              "    <tr>\n",
              "      <th>75%</th>\n",
              "      <td>1.000000</td>\n",
              "      <td>3.000000</td>\n",
              "      <td>3.000000</td>\n",
              "      <td>1.000000</td>\n",
              "      <td>1.000000</td>\n",
              "      <td>77.00000</td>\n",
              "    </tr>\n",
              "    <tr>\n",
              "      <th>max</th>\n",
              "      <td>1.000000</td>\n",
              "      <td>4.000000</td>\n",
              "      <td>5.000000</td>\n",
              "      <td>1.000000</td>\n",
              "      <td>1.000000</td>\n",
              "      <td>100.00000</td>\n",
              "    </tr>\n",
              "  </tbody>\n",
              "</table>\n",
              "</div>"
            ],
            "text/plain": [
              "            gender  race/ethnicity  ...  test preparation course  math score\n",
              "count  1000.000000     1000.000000  ...              1000.000000  1000.00000\n",
              "mean      0.518000        2.174000  ...                 0.358000    66.08900\n",
              "std       0.499926        1.157179  ...                 0.479652    15.16308\n",
              "min       0.000000        0.000000  ...                 0.000000     0.00000\n",
              "25%       0.000000        1.000000  ...                 0.000000    57.00000\n",
              "50%       1.000000        2.000000  ...                 0.000000    66.00000\n",
              "75%       1.000000        3.000000  ...                 1.000000    77.00000\n",
              "max       1.000000        4.000000  ...                 1.000000   100.00000\n",
              "\n",
              "[8 rows x 6 columns]"
            ]
          },
          "metadata": {
            "tags": []
          },
          "execution_count": 125
        }
      ]
    },
    {
      "cell_type": "code",
      "metadata": {
        "colab": {
          "base_uri": "https://localhost:8080/"
        },
        "id": "_SEtvT46hezE",
        "outputId": "3cc8f84e-b856-42d1-cb0a-bc783fa348ed"
      },
      "source": [
        "data['math score'].describe()"
      ],
      "execution_count": 126,
      "outputs": [
        {
          "output_type": "execute_result",
          "data": {
            "text/plain": [
              "count    1000.00000\n",
              "mean       66.08900\n",
              "std        15.16308\n",
              "min         0.00000\n",
              "25%        57.00000\n",
              "50%        66.00000\n",
              "75%        77.00000\n",
              "max       100.00000\n",
              "Name: math score, dtype: float64"
            ]
          },
          "metadata": {
            "tags": []
          },
          "execution_count": 126
        }
      ]
    },
    {
      "cell_type": "markdown",
      "metadata": {
        "id": "Il2UGmwTiqgm"
      },
      "source": [
        ""
      ]
    },
    {
      "cell_type": "markdown",
      "metadata": {
        "id": "O56cJL9bjPyY"
      },
      "source": [
        "# Graphing inital graphs of data before Normalization\r\n",
        "\r\n",
        "Need to come back and create a loop that creates these graphs. I was having trouble getting the histogram to look like I needed it to in the first place so I went with this method for now so I could turn it in and fix in the next phase"
      ]
    },
    {
      "cell_type": "code",
      "metadata": {
        "id": "zwJ9hOLD9vYw"
      },
      "source": [
        "dataset = np.genfromtxt('school-test-data-set.csv', delimiter = ',', skip_header = True)"
      ],
      "execution_count": 127,
      "outputs": []
    },
    {
      "cell_type": "code",
      "metadata": {
        "colab": {
          "base_uri": "https://localhost:8080/",
          "height": 695
        },
        "id": "rS-2t-aijWVB",
        "outputId": "fa295447-f86b-46f1-ab97-dbd6ee79cd47"
      },
      "source": [
        "columns = ['gender', 'race/ethnicity', 'parental_level_of_education', 'lunch', 'test_preparation_course', 'math_score']\r\n",
        "columnsLen = len(columns) # Size of columns\r\n",
        "colorSet = [\"red\", \"blue\", \"yellow\", \"green\", \"purple\", \"yellow\"] # Array of colors that each subplot will be\r\n",
        "\r\n",
        "fig, axs = plt.subplots(2, 3, figsize = (15, 10))\r\n",
        "fig.subplots_adjust(top=0.8)\r\n",
        "fig.tight_layout(pad = 5.0)\r\n",
        "# COME BACK TO THIS\r\n",
        "axs[0, 0].hist(dataset[:, 0], color = \"red\", rwidth=0.9)\r\n",
        "axs[0, 0].set_title(\"Gender Profile\")\r\n",
        "axs[0, 0].set_xlabel(\"Male (0) Female (1)\")\r\n",
        "axs[0, 1].hist(dataset[:, 1], color = \"blue\", rwidth=0.9)\r\n",
        "axs[0, 1].set_title(\"Race/Ethnicity Profile\")\r\n",
        "axs[0, 1].set_xlabel(\"Race Group 0 - 4\")\r\n",
        "axs[0, 2].hist(dataset[:, 2], color = \"teal\", rwidth=0.9)\r\n",
        "axs[0, 2].set_title(\"Parental Level of Education Profile\")\r\n",
        "axs[0, 2].set_xlabel(\"Level of Education: Some College -> Masters Degree (0 - 5)\")\r\n",
        "axs[1, 0].hist(dataset[:, 3], color = \"green\", rwidth=0.9)\r\n",
        "axs[1, 0].set_title(\"Lunch Profile\")\r\n",
        "axs[1, 0].set_xlabel(\"Free/Reduced (0) Standard(1)\")\r\n",
        "axs[1, 1].hist(dataset[:, 4], color = \"purple\", rwidth=0.9)\r\n",
        "axs[1, 1].set_title(\"Test Preparation Profile\")\r\n",
        "axs[1, 1].set_xlabel(\"None (0) Completed (1)\")\r\n",
        "axs[1, 2].hist(dataset[:, 5], color = \"orange\", rwidth=0.9)\r\n",
        "axs[1, 2].set_title(\"Math Score Profile\")\r\n",
        "axs[1, 2].set_xlabel(\"Test Score\")"
      ],
      "execution_count": 128,
      "outputs": [
        {
          "output_type": "execute_result",
          "data": {
            "text/plain": [
              "Text(0.5, 69.0, 'Test Score')"
            ]
          },
          "metadata": {
            "tags": []
          },
          "execution_count": 128
        },
        {
          "output_type": "display_data",
          "data": {
            "image/png": "[encoded data removed]",
            "text/plain": [
              "<Figure size 1080x720 with 6 Axes>"
            ]
          },
          "metadata": {
            "tags": [],
            "needs_background": "light"
          }
        }
      ]
    },
    {
      "cell_type": "markdown",
      "metadata": {
        "id": "3S-r1_Cs7hMA"
      },
      "source": [
        "# Graphs with a large disparity between their binary values"
      ]
    },
    {
      "cell_type": "code",
      "metadata": {
        "colab": {
          "base_uri": "https://localhost:8080/",
          "height": 695
        },
        "id": "De0PUcVL7MzY",
        "outputId": "f2bcfb29-5057-4e17-de86-78600106a205"
      },
      "source": [
        "fig, axs = plt.subplots(1, 2, figsize = (15, 10))\r\n",
        "fig.subplots_adjust(top=0.8)\r\n",
        "fig.tight_layout(pad = 5.0)\r\n",
        "axs[0].hist(dataset[:, 3], color = \"green\", rwidth=0.9)\r\n",
        "axs[0].set_title(\"Lunch Profile\")\r\n",
        "axs[0].set_xlabel(\"Free/Reduced (0) Standard(1)\")\r\n",
        "axs[1].hist(dataset[:, 4], color = \"purple\", rwidth=0.9)\r\n",
        "axs[1].set_title(\"Test Preparation Profile\")\r\n",
        "axs[1].set_xlabel(\"None (0) Completed (1)\")"
      ],
      "execution_count": 133,
      "outputs": [
        {
          "output_type": "execute_result",
          "data": {
            "text/plain": [
              "Text(0.5, 69.0, 'None (0) Completed (1)')"
            ]
          },
          "metadata": {
            "tags": []
          },
          "execution_count": 133
        },
        {
          "output_type": "display_data",
          "data": {
            "image/png": "[encoded data removed]",
            "text/plain": [
              "<Figure size 1080x720 with 2 Axes>"
            ]
          },
          "metadata": {
            "tags": [],
            "needs_background": "light"
          }
        }
      ]
    },
    {
      "cell_type": "code",
      "metadata": {
        "id": "4nLFG6IwMAFc",
        "colab": {
          "base_uri": "https://localhost:8080/"
        },
        "outputId": "8d860ca7-e54c-4b46-f3f7-13a5e1ebb153"
      },
      "source": [
        "math_max = dataset[:, 5].max() # Takes max value from math score column\r\n",
        "race_max = dataset[:, 1].max() # Take the max from the race column\r\n",
        "parent_max = dataset[:, 2].max() # Take the max from the parent column\r\n",
        "print(math_max, race_max, parent_max)\r\n",
        "dataset[:, 5] = dataset[:, 5] / math_max\r\n",
        "dataset[:, 1] = dataset[:, 1] / race_max\r\n",
        "dataset[:, 2] = dataset[:, 2] / parent_max"
      ],
      "execution_count": 129,
      "outputs": [
        {
          "output_type": "stream",
          "text": [
            "100.0 4.0 5.0\n"
          ],
          "name": "stdout"
        }
      ]
    },
    {
      "cell_type": "code",
      "metadata": {
        "colab": {
          "base_uri": "https://localhost:8080/",
          "height": 407
        },
        "id": "g3PW1nYsMsl9",
        "outputId": "d52985d0-ba1a-406d-87c8-1aad9558aa51"
      },
      "source": [
        "fig, axs = plt.subplots(1, 3, figsize = (15, 6))\r\n",
        "fig.subplots_adjust(top=0.8)\r\n",
        "fig.tight_layout(pad = 5.0)\r\n",
        "\r\n",
        "axs[0].hist(dataset[:, 1], color = \"blue\", rwidth=0.9)\r\n",
        "axs[0].set_title(\"Race/Ethnicity Profile\")\r\n",
        "axs[0].set_xlabel(\"Race Group\")\r\n",
        "\r\n",
        "axs[1].hist(dataset[:, 2], color = \"teal\", rwidth=0.9)\r\n",
        "axs[1].set_title(\"Parental Level of Education Profile\")\r\n",
        "axs[1].set_xlabel(\"Level of Education\")\r\n",
        "\r\n",
        "axs[2].hist(dataset[:, 5], color = \"orange\", rwidth=0.9)\r\n",
        "axs[2].set_title(\"Math Score Profile\")\r\n",
        "axs[2].set_xlabel(\"Test Score\")"
      ],
      "execution_count": 130,
      "outputs": [
        {
          "output_type": "execute_result",
          "data": {
            "text/plain": [
              "Text(0.5, 33.0, 'Test Score')"
            ]
          },
          "metadata": {
            "tags": []
          },
          "execution_count": 130
        },
        {
          "output_type": "display_data",
          "data": {
            "image/png": "[encoded data removed]",
            "text/plain": [
              "<Figure size 1080x432 with 3 Axes>"
            ]
          },
          "metadata": {
            "tags": [],
            "needs_background": "light"
          }
        }
      ]
    }
  ]
}